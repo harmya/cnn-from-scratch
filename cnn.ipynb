{
 "cells": [
  {
   "cell_type": "code",
   "execution_count": 1,
   "metadata": {},
   "outputs": [],
   "source": [
    "import numpy as np\n",
    "import pandas as pd\n",
    "import matplotlib.pyplot as plt"
   ]
  },
  {
   "cell_type": "code",
   "execution_count": 2,
   "metadata": {},
   "outputs": [],
   "source": [
    "def sep():\n",
    "    print(\"\\n\" + \"-\"*50 + \"\\n\")\n",
    "\n",
    "def pretty(x):\n",
    "    print('\\n'.join(['\\t'.join([str(cell) for cell in row]) for row in x]))"
   ]
  },
  {
   "cell_type": "code",
   "execution_count": 179,
   "metadata": {},
   "outputs": [
    {
     "name": "stdout",
     "output_type": "stream",
     "text": [
      "3\t3\t0\t1\t1\t3\n",
      "4\t4\t4\t2\t3\t4\n",
      "3\t2\t4\t3\t2\t3\n",
      "3\t3\t0\t3\t3\t2\n",
      "4\t0\t3\t4\t2\t3\n",
      "2\t1\t1\t1\t1\t3\n"
     ]
    }
   ],
   "source": [
    "A = np.random.randint(0, 5, size=(6, 6))\n",
    "pretty(A)"
   ]
  },
  {
   "cell_type": "code",
   "execution_count": 171,
   "metadata": {},
   "outputs": [
    {
     "name": "stdout",
     "output_type": "stream",
     "text": [
      "Kernel:\n",
      "1\t1\t1\n",
      "1\t1\t1\n",
      "1\t1\t1\n"
     ]
    }
   ],
   "source": [
    "kernel = np.array([[1, 1, 1], [1, 1, 1], [1, 1, 1]])\n",
    "print(\"Kernel:\")\n",
    "pretty(kernel)"
   ]
  },
  {
   "cell_type": "code",
   "execution_count": 178,
   "metadata": {},
   "outputs": [],
   "source": [
    "def conv2d(A, kernel):\n",
    "    n, A_row, A_col = A.shape  # n is the number of images, A_row is height, A_col is width\n",
    "    kernel_row, kernel_col = kernel.shape\n",
    "    result = np.zeros((n, A_row - kernel_row + 1, A_col - kernel_col + 1))\n",
    "\n",
    "    # Iterate over each image in the batch\n",
    "    for img in range(n):\n",
    "        for i in range(result.shape[1]):  # Iterate over height\n",
    "            for j in range(result.shape[2]):  # Iterate over width\n",
    "                result[img, i, j] = np.sum(A[img, i:i+kernel_row, j:j+kernel_col] * kernel)\n",
    "\n",
    "    return result\n"
   ]
  },
  {
   "cell_type": "code",
   "execution_count": 173,
   "metadata": {},
   "outputs": [],
   "source": [
    "def pad(matrix, padding_size):\n",
    "    original_rows, original_cols = matrix.shape\n",
    "\n",
    "    # Create a new matrix filled with zeros, large enough to include the padding\n",
    "    padded_matrix = np.zeros((original_rows + 2 * padding_size, original_cols + 2 * padding_size))\n",
    "    \n",
    "    # Place the original matrix into the center of the padded matrix\n",
    "    padded_matrix[padding_size:-padding_size, padding_size:-padding_size] = matrix\n",
    "    \n",
    "    # Return the padded matrix\n",
    "    return padded_matrix\n"
   ]
  },
  {
   "cell_type": "code",
   "execution_count": 180,
   "metadata": {},
   "outputs": [
    {
     "name": "stdout",
     "output_type": "stream",
     "text": [
      "\n",
      "--------------------------------------------------\n",
      "\n",
      "[[[14. 18. 14. 11. 14. 11.]\n",
      "  [19. 27. 23. 20. 22. 16.]\n",
      "  [19. 27. 25. 24. 25. 17.]\n",
      "  [15. 22. 22. 24. 25. 15.]\n",
      "  [13. 17. 16. 18. 22. 14.]\n",
      "  [ 7. 11. 10. 12. 14.  9.]]]\n"
     ]
    }
   ],
   "source": [
    "A = pad(A, 1)\n",
    "# add extra dimenion to A\n",
    "A = A[np.newaxis, :, :]\n",
    "sep()\n",
    "print(conv2d(A, kernel))"
   ]
  },
  {
   "cell_type": "code",
   "execution_count": 164,
   "metadata": {},
   "outputs": [],
   "source": [
    "class ConvolutionLayer:\n",
    "    def __init__(self, kernel_size, num_filters):\n",
    "        self.kernel_size = kernel_size\n",
    "        self.num_filters = num_filters\n",
    "        self.filters = np.random.randn(num_filters, kernel_size, kernel_size) / (kernel_size * kernel_size)\n",
    "\n",
    "    def generate_patches(self, A):\n",
    "        A_row, A_col = A.shape\n",
    "        for i in range(A_row - self.kernel_size + 1):\n",
    "            for j in range(A_col - self.kernel_size + 1):\n",
    "                patch = A[i : i + self.kernel_size, j : j + self.kernel_size]\n",
    "                yield patch, i, j\n",
    "    \n",
    "    def forward(self, A):\n",
    "        A_row, A_col = A.shape\n",
    "        output = np.zeros((A_row - self.kernel_size + 1, A_col - self.kernel_size + 1, self.num_filters))\n",
    "\n",
    "        for patch, i, j in self.generate_patches(A):\n",
    "            output[i, j] = np.sum(patch * self.filters, axis=(1, 2))\n",
    "        \n",
    "        return output"
   ]
  },
  {
   "cell_type": "code",
   "execution_count": 165,
   "metadata": {},
   "outputs": [
    {
     "name": "stdout",
     "output_type": "stream",
     "text": [
      "(2, 3, 3)\n",
      "[[[ 0.04515109 -0.10841757 -0.08616797]\n",
      "  [-0.26473189  0.25545729 -0.00646385]\n",
      "  [ 0.02812804 -0.22627443  0.16002924]]\n",
      "\n",
      " [[ 0.02436573  0.0152732   0.11129843]\n",
      "  [-0.05896405 -0.11058799  0.32046785]\n",
      "  [ 0.05466161  0.00526428 -0.05081055]]]\n",
      "\n",
      "--------------------------------------------------\n",
      "\n",
      "(array([[0., 0., 0.],\n",
      "       [0., 2., 4.],\n",
      "       [0., 0., 4.]]), 0, 0)\n",
      "\n",
      "--------------------------------------------------\n",
      "\n",
      "(6, 6, 2)\n",
      "[[ 1.12517616  0.06735538 -0.99158558 -0.11102399  0.48498922 -0.40526314]\n",
      " [-0.87988201  0.6490804  -0.42212105  0.42339752 -1.30365518 -1.32893258]\n",
      " [-0.58528961 -0.76634831 -0.92301563 -0.15093514 -0.06607898 -0.23224254]\n",
      " [ 0.25981334 -0.54436675  0.05042583 -0.61101575 -0.29176    -1.39657289]\n",
      " [-0.36768848 -0.53061763  0.18382334 -0.25309648 -0.22099721 -1.26841175]\n",
      " [ 0.53660903 -0.38470637 -0.17165451 -0.52488399 -0.31392591 -0.07332916]]\n",
      "\n",
      "--------------------------------------------------\n",
      "\n"
     ]
    }
   ],
   "source": [
    "cnn_layer = ConvolutionLayer(3, 2)\n",
    "print(cnn_layer.filters.shape)\n",
    "print(cnn_layer.filters)\n",
    "sep()\n",
    "\n",
    "patches = cnn_layer.generate_patches(A)\n",
    "print(next(patches))\n",
    "sep()\n",
    "\n",
    "output = cnn_layer.forward(A)\n",
    "print(output.shape)\n",
    "print(output[:, :, 0])\n",
    "sep()"
   ]
  },
  {
   "cell_type": "code",
   "execution_count": 193,
   "metadata": {},
   "outputs": [],
   "source": [
    "class MaxPool2d:\n",
    "    def __init__(self, pool_size):\n",
    "        self.pool_size = pool_size\n",
    "    \n",
    "    def generate_patches(self, A):\n",
    "        A_row, A_col, num_filters = A.shape\n",
    "        for i in range(0, A_row, self.pool_size):\n",
    "            for j in range(0, A_col, self.pool_size):\n",
    "                patch = A[i : i+  self.pool_size, j : j + self.pool_size]\n",
    "                yield patch, i, j\n",
    "    \n",
    "    def forward(self, A):\n",
    "        self.last_input = A\n",
    "        A_row, A_col, num_filters = A.shape\n",
    "        output = np.zeros((A_row // self.pool_size, A_col // self.pool_size, num_filters))\n",
    "\n",
    "        for patch, i, j in self.generate_patches(A):\n",
    "            output[i//self.pool_size, j//self.pool_size] = np.amax(patch, axis=(0, 1))\n",
    "        \n",
    "        return output\n",
    "    \n",
    "    def backprop(self, d_loss_d_output):\n",
    "        d_loss_d_input = np.zeros(self.last_input.shape)\n",
    "\n",
    "        # Iterate over the regions as in forward pass\n",
    "        for patch, row, col in self.generate_patches(self.last_input):\n",
    "            patch_height, patch_width, num_channels = patch.shape\n",
    "            max_values = np.amax(patch, axis=(0, 1))\n",
    "\n",
    "            for i in range(patch_height):\n",
    "                for j in range(patch_width):\n",
    "                    for channel in range(num_channels):\n",
    "                        # Find the pizel that was the max value in this patch, and pass the gradient back to it\n",
    "                        if patch[i, j, channel] == max_values[channel]:\n",
    "                            d_loss_d_input[row + i, col + j, channel] = d_loss_d_output[row // self.pool_size, col // self.pool_size, channel]\n",
    "        \n",
    "        return d_loss_d_input\n"
   ]
  },
  {
   "cell_type": "code",
   "execution_count": 167,
   "metadata": {},
   "outputs": [
    {
     "name": "stdout",
     "output_type": "stream",
     "text": [
      "(3, 3, 2)\n",
      "[[ 1.12517616  0.42339752  0.48498922]\n",
      " [ 0.25981334  0.05042583 -0.06607898]\n",
      " [ 0.53660903  0.18382334 -0.07332916]]\n"
     ]
    }
   ],
   "source": [
    "max_pool = MaxPool2d(2)\n",
    "output = max_pool.forward(output)\n",
    "print(output.shape)\n",
    "print(output[:, :, 0])"
   ]
  },
  {
   "cell_type": "code",
   "execution_count": 205,
   "metadata": {},
   "outputs": [],
   "source": [
    "class LinearLayer:\n",
    "    def __init__(self, num_inputs, num_outputs):\n",
    "        self.weights = np.random.randn(num_inputs, num_outputs) / num_inputs\n",
    "        self.bias = np.zeros(num_outputs)\n",
    "    \n",
    "    def softmax(self, A):\n",
    "        expA = np.exp(A)\n",
    "        return expA / expA.sum(axis=0)\n",
    "\n",
    "    def forward(self, A):\n",
    "        self.shape_before_flattening = A.shape\n",
    "        A = A.flatten()\n",
    "        self.input_to_last_layer = A\n",
    "        input_size, output_size = self.weights.shape\n",
    "        self.logits = np.dot(A, self.weights) + self.bias\n",
    "        return self.softmax(self.logits)\n",
    "\n",
    "    def backprop(self, y, y_hat, learn_rate):\n",
    "        # Calculate the gradient of the loss w.r.t. the output (logits)\n",
    "        correct_label = np.argmax(y)\n",
    "        dLoss_dLogits = np.zeros(y_hat.shape)\n",
    "        dLoss_dLogits[correct_label] = -1 / y_hat[correct_label]\n",
    "\n",
    "        # e^totals and their sum (softmax layer backprop)\n",
    "        t_exp = np.exp(self.logits)\n",
    "        S = np.sum(t_exp)\n",
    "\n",
    "        # Gradients of out[correct_label] against totals (we only need one element)\n",
    "        d_out_d_t = -t_exp[correct_label] * t_exp / (S ** 2)\n",
    "        d_out_d_t[correct_label] = t_exp[correct_label] * (S - t_exp[correct_label]) / (S ** 2)\n",
    "\n",
    "        # Gradients of totals against weights/biases/input\n",
    "        d_t_d_w = self.input_to_last_layer\n",
    "        d_t_d_b = 1\n",
    "        d_t_d_inputs = self.weights\n",
    "\n",
    "        # Gradient of loss w.r.t. totals for the correct label\n",
    "        d_L_d_t = dLoss_dLogits[correct_label] * d_out_d_t\n",
    "\n",
    "        # Gradients of loss against weights/biases/input\n",
    "        d_L_d_w = d_t_d_w[np.newaxis].T @ d_L_d_t[np.newaxis]\n",
    "        d_L_d_b = d_L_d_t * d_t_d_b\n",
    "        d_L_d_inputs = d_t_d_inputs @ d_L_d_t\n",
    "\n",
    "        # Update weights / biases\n",
    "        self.weights -= learn_rate * d_L_d_w\n",
    "        self.bias -= learn_rate * d_L_d_b\n",
    "\n",
    "        return d_L_d_inputs.reshape(self.shape_before_flattening)\n",
    "\n",
    "\n",
    "        "
   ]
  },
  {
   "cell_type": "code",
   "execution_count": 195,
   "metadata": {},
   "outputs": [
    {
     "ename": "ValueError",
     "evalue": "shapes (5,) and (18,5) not aligned: 5 (dim 0) != 18 (dim 0)",
     "output_type": "error",
     "traceback": [
      "\u001b[0;31m---------------------------------------------------------------------------\u001b[0m",
      "\u001b[0;31mValueError\u001b[0m                                Traceback (most recent call last)",
      "Cell \u001b[0;32mIn [195], line 2\u001b[0m\n\u001b[1;32m      1\u001b[0m linear_layer \u001b[38;5;241m=\u001b[39m LinearLayer(\u001b[38;5;241m18\u001b[39m, \u001b[38;5;241m5\u001b[39m)\n\u001b[0;32m----> 2\u001b[0m output \u001b[38;5;241m=\u001b[39m \u001b[43mlinear_layer\u001b[49m\u001b[38;5;241;43m.\u001b[39;49m\u001b[43mforward\u001b[49m\u001b[43m(\u001b[49m\u001b[43moutput\u001b[49m\u001b[43m)\u001b[49m\n\u001b[1;32m      3\u001b[0m \u001b[38;5;28mprint\u001b[39m(output)\n",
      "Cell \u001b[0;32mIn [194], line 15\u001b[0m, in \u001b[0;36mLinearLayer.forward\u001b[0;34m(self, A)\u001b[0m\n\u001b[1;32m     13\u001b[0m \u001b[38;5;28mself\u001b[39m\u001b[38;5;241m.\u001b[39minput_to_last_layer \u001b[38;5;241m=\u001b[39m A\n\u001b[1;32m     14\u001b[0m input_size, output_size \u001b[38;5;241m=\u001b[39m \u001b[38;5;28mself\u001b[39m\u001b[38;5;241m.\u001b[39mweights\u001b[38;5;241m.\u001b[39mshape\n\u001b[0;32m---> 15\u001b[0m \u001b[38;5;28mself\u001b[39m\u001b[38;5;241m.\u001b[39mlogits \u001b[38;5;241m=\u001b[39m \u001b[43mnp\u001b[49m\u001b[38;5;241;43m.\u001b[39;49m\u001b[43mdot\u001b[49m\u001b[43m(\u001b[49m\u001b[43mA\u001b[49m\u001b[43m,\u001b[49m\u001b[43m \u001b[49m\u001b[38;5;28;43mself\u001b[39;49m\u001b[38;5;241;43m.\u001b[39;49m\u001b[43mweights\u001b[49m\u001b[43m)\u001b[49m \u001b[38;5;241m+\u001b[39m \u001b[38;5;28mself\u001b[39m\u001b[38;5;241m.\u001b[39mbias\n\u001b[1;32m     16\u001b[0m \u001b[38;5;28;01mreturn\u001b[39;00m \u001b[38;5;28mself\u001b[39m\u001b[38;5;241m.\u001b[39msoftmax(\u001b[38;5;28mself\u001b[39m\u001b[38;5;241m.\u001b[39mlogits)\n",
      "File \u001b[0;32m<__array_function__ internals>:180\u001b[0m, in \u001b[0;36mdot\u001b[0;34m(*args, **kwargs)\u001b[0m\n",
      "\u001b[0;31mValueError\u001b[0m: shapes (5,) and (18,5) not aligned: 5 (dim 0) != 18 (dim 0)"
     ]
    }
   ],
   "source": [
    "linear_layer = LinearLayer(18, 5)\n",
    "output = linear_layer.forward(output)\n",
    "print(output)"
   ]
  },
  {
   "cell_type": "code",
   "execution_count": 196,
   "metadata": {},
   "outputs": [
    {
     "data": {
      "text/html": [
       "<div>\n",
       "<style scoped>\n",
       "    .dataframe tbody tr th:only-of-type {\n",
       "        vertical-align: middle;\n",
       "    }\n",
       "\n",
       "    .dataframe tbody tr th {\n",
       "        vertical-align: top;\n",
       "    }\n",
       "\n",
       "    .dataframe thead th {\n",
       "        text-align: right;\n",
       "    }\n",
       "</style>\n",
       "<table border=\"1\" class=\"dataframe\">\n",
       "  <thead>\n",
       "    <tr style=\"text-align: right;\">\n",
       "      <th></th>\n",
       "      <th>label</th>\n",
       "      <th>1x1</th>\n",
       "      <th>1x2</th>\n",
       "      <th>1x3</th>\n",
       "      <th>1x4</th>\n",
       "      <th>1x5</th>\n",
       "      <th>1x6</th>\n",
       "      <th>1x7</th>\n",
       "      <th>1x8</th>\n",
       "      <th>1x9</th>\n",
       "      <th>...</th>\n",
       "      <th>28x19</th>\n",
       "      <th>28x20</th>\n",
       "      <th>28x21</th>\n",
       "      <th>28x22</th>\n",
       "      <th>28x23</th>\n",
       "      <th>28x24</th>\n",
       "      <th>28x25</th>\n",
       "      <th>28x26</th>\n",
       "      <th>28x27</th>\n",
       "      <th>28x28</th>\n",
       "    </tr>\n",
       "  </thead>\n",
       "  <tbody>\n",
       "    <tr>\n",
       "      <th>0</th>\n",
       "      <td>5</td>\n",
       "      <td>0</td>\n",
       "      <td>0</td>\n",
       "      <td>0</td>\n",
       "      <td>0</td>\n",
       "      <td>0</td>\n",
       "      <td>0</td>\n",
       "      <td>0</td>\n",
       "      <td>0</td>\n",
       "      <td>0</td>\n",
       "      <td>...</td>\n",
       "      <td>0</td>\n",
       "      <td>0</td>\n",
       "      <td>0</td>\n",
       "      <td>0</td>\n",
       "      <td>0</td>\n",
       "      <td>0</td>\n",
       "      <td>0</td>\n",
       "      <td>0</td>\n",
       "      <td>0</td>\n",
       "      <td>0</td>\n",
       "    </tr>\n",
       "    <tr>\n",
       "      <th>1</th>\n",
       "      <td>0</td>\n",
       "      <td>0</td>\n",
       "      <td>0</td>\n",
       "      <td>0</td>\n",
       "      <td>0</td>\n",
       "      <td>0</td>\n",
       "      <td>0</td>\n",
       "      <td>0</td>\n",
       "      <td>0</td>\n",
       "      <td>0</td>\n",
       "      <td>...</td>\n",
       "      <td>0</td>\n",
       "      <td>0</td>\n",
       "      <td>0</td>\n",
       "      <td>0</td>\n",
       "      <td>0</td>\n",
       "      <td>0</td>\n",
       "      <td>0</td>\n",
       "      <td>0</td>\n",
       "      <td>0</td>\n",
       "      <td>0</td>\n",
       "    </tr>\n",
       "    <tr>\n",
       "      <th>2</th>\n",
       "      <td>4</td>\n",
       "      <td>0</td>\n",
       "      <td>0</td>\n",
       "      <td>0</td>\n",
       "      <td>0</td>\n",
       "      <td>0</td>\n",
       "      <td>0</td>\n",
       "      <td>0</td>\n",
       "      <td>0</td>\n",
       "      <td>0</td>\n",
       "      <td>...</td>\n",
       "      <td>0</td>\n",
       "      <td>0</td>\n",
       "      <td>0</td>\n",
       "      <td>0</td>\n",
       "      <td>0</td>\n",
       "      <td>0</td>\n",
       "      <td>0</td>\n",
       "      <td>0</td>\n",
       "      <td>0</td>\n",
       "      <td>0</td>\n",
       "    </tr>\n",
       "    <tr>\n",
       "      <th>3</th>\n",
       "      <td>1</td>\n",
       "      <td>0</td>\n",
       "      <td>0</td>\n",
       "      <td>0</td>\n",
       "      <td>0</td>\n",
       "      <td>0</td>\n",
       "      <td>0</td>\n",
       "      <td>0</td>\n",
       "      <td>0</td>\n",
       "      <td>0</td>\n",
       "      <td>...</td>\n",
       "      <td>0</td>\n",
       "      <td>0</td>\n",
       "      <td>0</td>\n",
       "      <td>0</td>\n",
       "      <td>0</td>\n",
       "      <td>0</td>\n",
       "      <td>0</td>\n",
       "      <td>0</td>\n",
       "      <td>0</td>\n",
       "      <td>0</td>\n",
       "    </tr>\n",
       "    <tr>\n",
       "      <th>4</th>\n",
       "      <td>9</td>\n",
       "      <td>0</td>\n",
       "      <td>0</td>\n",
       "      <td>0</td>\n",
       "      <td>0</td>\n",
       "      <td>0</td>\n",
       "      <td>0</td>\n",
       "      <td>0</td>\n",
       "      <td>0</td>\n",
       "      <td>0</td>\n",
       "      <td>...</td>\n",
       "      <td>0</td>\n",
       "      <td>0</td>\n",
       "      <td>0</td>\n",
       "      <td>0</td>\n",
       "      <td>0</td>\n",
       "      <td>0</td>\n",
       "      <td>0</td>\n",
       "      <td>0</td>\n",
       "      <td>0</td>\n",
       "      <td>0</td>\n",
       "    </tr>\n",
       "  </tbody>\n",
       "</table>\n",
       "<p>5 rows × 785 columns</p>\n",
       "</div>"
      ],
      "text/plain": [
       "   label  1x1  1x2  1x3  1x4  1x5  1x6  1x7  1x8  1x9  ...  28x19  28x20  \\\n",
       "0      5    0    0    0    0    0    0    0    0    0  ...      0      0   \n",
       "1      0    0    0    0    0    0    0    0    0    0  ...      0      0   \n",
       "2      4    0    0    0    0    0    0    0    0    0  ...      0      0   \n",
       "3      1    0    0    0    0    0    0    0    0    0  ...      0      0   \n",
       "4      9    0    0    0    0    0    0    0    0    0  ...      0      0   \n",
       "\n",
       "   28x21  28x22  28x23  28x24  28x25  28x26  28x27  28x28  \n",
       "0      0      0      0      0      0      0      0      0  \n",
       "1      0      0      0      0      0      0      0      0  \n",
       "2      0      0      0      0      0      0      0      0  \n",
       "3      0      0      0      0      0      0      0      0  \n",
       "4      0      0      0      0      0      0      0      0  \n",
       "\n",
       "[5 rows x 785 columns]"
      ]
     },
     "execution_count": 196,
     "metadata": {},
     "output_type": "execute_result"
    }
   ],
   "source": [
    "mnist = pd.read_csv('mnist_train.csv')\n",
    "mnist.head()"
   ]
  },
  {
   "cell_type": "code",
   "execution_count": 321,
   "metadata": {},
   "outputs": [
    {
     "name": "stdout",
     "output_type": "stream",
     "text": [
      "(1000, 28, 28)\n",
      "(1000, 10)\n",
      "(500, 28, 28)\n",
      "(500,)\n",
      "[[  1 154 253  90   0   0   0   0   0   0]\n",
      " [  0 139 253 190   2   0   0   0   0   0]\n",
      " [  0  11 190 253  70   0   0   0   0   0]\n",
      " [  0   0  35 241 225 160 108   1   0   0]\n",
      " [  0   0   0  81 240 253 253 119  25   0]\n",
      " [  0   0   0   0  45 186 253 253 150  27]\n",
      " [  0   0   0   0   0  16  93 252 253 187]\n",
      " [  0   0   0   0   0   0   0 249 253 249]\n",
      " [  0   0   0   0  46 130 183 253 253 207]\n",
      " [  0   0  39 148 229 253 253 253 250 182]]\n"
     ]
    }
   ],
   "source": [
    "data = mnist.values\n",
    "split_index = int(0.8 * data.shape[0])\n",
    "X = data[:1000, 1:].reshape(-1, 28, 28)\n",
    "y = data[:1000, 0]\n",
    "\n",
    "X_test = data[1500:2000, 1:].reshape(-1, 28, 28)\n",
    "y_test = data[1500:2000, 0]\n",
    "\n",
    "y_one_hot = np.zeros((y.shape[0], 10))\n",
    "y_one_hot[np.arange(y.shape[0]), y] = 1\n",
    "\n",
    "\n",
    "print(X.shape)\n",
    "print(y_one_hot.shape)\n",
    "\n",
    "print(X_test.shape)\n",
    "print(y_test.shape)\n",
    "\n",
    "print(X[0, 10:20, 10:20])"
   ]
  },
  {
   "cell_type": "code",
   "execution_count": 250,
   "metadata": {},
   "outputs": [
    {
     "data": {
      "image/png": "[encoded data removed]",
      "text/plain": [
       "<Figure size 640x480 with 1 Axes>"
      ]
     },
     "metadata": {},
     "output_type": "display_data"
    }
   ],
   "source": [
    "def show_img(img):\n",
    "    plt.imshow(img, cmap='gray')\n",
    "    plt.show()\n",
    "\n",
    "show_img(X[0])"
   ]
  },
  {
   "cell_type": "code",
   "execution_count": 257,
   "metadata": {},
   "outputs": [],
   "source": [
    "class CNN:\n",
    "    def __init__(self, num_classes, lr=0.01):\n",
    "        self.conv = ConvolutionLayer(3, 8)\n",
    "        self.pool = MaxPool2d(2)\n",
    "        # self.linear = LinearLayer(13 * 13 * 8, num_classes)\n",
    "        self.linear = LinearLayer(14 * 14 * 8, num_classes)\n",
    "        \n",
    "    \n",
    "    def forward(self, A):\n",
    "        output = self.conv.forward(A)\n",
    "        # print(\"After Convolution Layer:\")\n",
    "        # print(output.shape)\n",
    "        # sep()\n",
    "\n",
    "        output = self.pool.forward(output)\n",
    "        # print(\"After Max Pooling Layer:\")\n",
    "        # print(output.shape)\n",
    "        # sep()\n",
    "        \n",
    "        output = self.linear.forward(output)\n",
    "        # print(\"After Linear Layer:\")\n",
    "        # print(output.shape)\n",
    "        \n",
    "        return output"
   ]
  },
  {
   "cell_type": "markdown",
   "metadata": {},
   "source": [
    "### How is it 13x13x8?"
   ]
  },
  {
   "cell_type": "markdown",
   "metadata": {},
   "source": [
    "Input was an image of size 28x28\n",
    "Now, we have a kernel size of 3 x 3, so we will end up with a 28 - 3 + 1 = 26 x 26 image.\n",
    "Since we have 8 filters, we will end up with 26 x 26 x 8 image after the first convolutional layer.\n",
    "\n",
    "Now, we have a max pooling layer with a pool size of 2 x 2, so each block of 2 x 2 pixels will be reduced to 1 pixel. So, we will end up with a 13 x 13 x 8 image after the first max pooling layer."
   ]
  },
  {
   "cell_type": "code",
   "execution_count": 326,
   "metadata": {},
   "outputs": [],
   "source": [
    "cnn = CNN(10)"
   ]
  },
  {
   "cell_type": "code",
   "execution_count": 327,
   "metadata": {},
   "outputs": [
    {
     "name": "stdout",
     "output_type": "stream",
     "text": [
      "(10,)\n",
      "3\n"
     ]
    },
    {
     "data": {
      "image/png": "[encoded data removed]",
      "text/plain": [
       "<Figure size 640x480 with 1 Axes>"
      ]
     },
     "metadata": {},
     "output_type": "display_data"
    }
   ],
   "source": [
    "random_index = np.random.randint(0, X.shape[0])\n",
    "inp = pad(X[random_index], 1)\n",
    "inp = normalize(inp)\n",
    "\n",
    "output = cnn.forward(inp)\n",
    "print(output.shape)\n",
    "print(np.argmax(output))\n",
    "show_img(X[random_index])"
   ]
  },
  {
   "cell_type": "code",
   "execution_count": 328,
   "metadata": {},
   "outputs": [],
   "source": [
    "def cross_entropy_loss(y, y_hat):\n",
    "    return -np.sum(y * np.log(y_hat))"
   ]
  },
  {
   "cell_type": "code",
   "execution_count": 329,
   "metadata": {},
   "outputs": [],
   "source": [
    "def testing_accuracy():\n",
    "    correct = 0\n",
    "    for i in range(X_test.shape[0]):\n",
    "        inp = pad(X_test[i], 1)\n",
    "        inp = normalize(inp)\n",
    "        output = cnn.forward(inp)\n",
    "        if np.argmax(output) == y_test[i]:\n",
    "            correct += 1\n",
    "    return correct / X.shape[0]"
   ]
  },
  {
   "cell_type": "code",
   "execution_count": 330,
   "metadata": {},
   "outputs": [],
   "source": [
    "def train(im, label, lr=.005):\n",
    "    # Forward\n",
    "    out = cnn.forward(im)\n",
    "    loss = cross_entropy_loss(label, out)\n",
    "    gradient_back_from_linear = cnn.linear.backprop(label, out, lr)\n",
    "    gradient_back_from_pool = cnn.pool.backprop(gradient_back_from_linear)\n",
    "    return loss"
   ]
  },
  {
   "cell_type": "code",
   "execution_count": 331,
   "metadata": {},
   "outputs": [
    {
     "name": "stdout",
     "output_type": "stream",
     "text": [
      "Epoch 1, Loss: 1.9730808305306915, Accuracy: 0.358\n",
      "Epoch 2, Loss: 1.4674612680764163, Accuracy: 0.398\n",
      "Epoch 3, Loss: 1.173775602256474, Accuracy: 0.413\n",
      "Epoch 4, Loss: 0.9932109602125951, Accuracy: 0.419\n"
     ]
    },
    {
     "ename": "KeyboardInterrupt",
     "evalue": "",
     "output_type": "error",
     "traceback": [
      "\u001b[0;31m---------------------------------------------------------------------------\u001b[0m",
      "\u001b[0;31mKeyboardInterrupt\u001b[0m                         Traceback (most recent call last)",
      "Cell \u001b[0;32mIn [331], line 6\u001b[0m\n\u001b[1;32m      4\u001b[0m     inp \u001b[38;5;241m=\u001b[39m pad(X[i], \u001b[38;5;241m1\u001b[39m)\n\u001b[1;32m      5\u001b[0m     inp \u001b[38;5;241m=\u001b[39m normalize(inp)\n\u001b[0;32m----> 6\u001b[0m     loss \u001b[38;5;241m=\u001b[39m \u001b[43mtrain\u001b[49m\u001b[43m(\u001b[49m\u001b[43minp\u001b[49m\u001b[43m,\u001b[49m\u001b[43m \u001b[49m\u001b[43my_one_hot\u001b[49m\u001b[43m[\u001b[49m\u001b[43mi\u001b[49m\u001b[43m]\u001b[49m\u001b[43m)\u001b[49m\n\u001b[1;32m      7\u001b[0m     epoch_loss \u001b[38;5;241m+\u001b[39m\u001b[38;5;241m=\u001b[39m loss\n\u001b[1;32m      9\u001b[0m \u001b[38;5;28mprint\u001b[39m(\u001b[38;5;124mf\u001b[39m\u001b[38;5;124m\"\u001b[39m\u001b[38;5;124mEpoch \u001b[39m\u001b[38;5;132;01m{\u001b[39;00mepoch \u001b[38;5;241m+\u001b[39m \u001b[38;5;241m1\u001b[39m\u001b[38;5;132;01m}\u001b[39;00m\u001b[38;5;124m, Loss: \u001b[39m\u001b[38;5;132;01m{\u001b[39;00mepoch_loss \u001b[38;5;241m/\u001b[39m X\u001b[38;5;241m.\u001b[39mshape[\u001b[38;5;241m0\u001b[39m]\u001b[38;5;132;01m}\u001b[39;00m\u001b[38;5;124m, Accuracy: \u001b[39m\u001b[38;5;132;01m{\u001b[39;00mtesting_accuracy()\u001b[38;5;132;01m}\u001b[39;00m\u001b[38;5;124m\"\u001b[39m)\n",
      "Cell \u001b[0;32mIn [330], line 3\u001b[0m, in \u001b[0;36mtrain\u001b[0;34m(im, label, lr)\u001b[0m\n\u001b[1;32m      1\u001b[0m \u001b[38;5;28;01mdef\u001b[39;00m \u001b[38;5;21mtrain\u001b[39m(im, label, lr\u001b[38;5;241m=\u001b[39m\u001b[38;5;241m.005\u001b[39m):\n\u001b[1;32m      2\u001b[0m     \u001b[38;5;66;03m# Forward\u001b[39;00m\n\u001b[0;32m----> 3\u001b[0m     out \u001b[38;5;241m=\u001b[39m \u001b[43mcnn\u001b[49m\u001b[38;5;241;43m.\u001b[39;49m\u001b[43mforward\u001b[49m\u001b[43m(\u001b[49m\u001b[43mim\u001b[49m\u001b[43m)\u001b[49m\n\u001b[1;32m      4\u001b[0m     loss \u001b[38;5;241m=\u001b[39m cross_entropy_loss(label, out)\n\u001b[1;32m      5\u001b[0m     gradient \u001b[38;5;241m=\u001b[39m cnn\u001b[38;5;241m.\u001b[39mlinear\u001b[38;5;241m.\u001b[39mbackprop(label, out, lr)\n",
      "Cell \u001b[0;32mIn [257], line 10\u001b[0m, in \u001b[0;36mCNN.forward\u001b[0;34m(self, A)\u001b[0m\n\u001b[1;32m      9\u001b[0m \u001b[38;5;28;01mdef\u001b[39;00m \u001b[38;5;21mforward\u001b[39m(\u001b[38;5;28mself\u001b[39m, A):\n\u001b[0;32m---> 10\u001b[0m     output \u001b[38;5;241m=\u001b[39m \u001b[38;5;28;43mself\u001b[39;49m\u001b[38;5;241;43m.\u001b[39;49m\u001b[43mconv\u001b[49m\u001b[38;5;241;43m.\u001b[39;49m\u001b[43mforward\u001b[49m\u001b[43m(\u001b[49m\u001b[43mA\u001b[49m\u001b[43m)\u001b[49m\n\u001b[1;32m     11\u001b[0m     \u001b[38;5;66;03m# print(\"After Convolution Layer:\")\u001b[39;00m\n\u001b[1;32m     12\u001b[0m     \u001b[38;5;66;03m# print(output.shape)\u001b[39;00m\n\u001b[1;32m     13\u001b[0m     \u001b[38;5;66;03m# sep()\u001b[39;00m\n\u001b[1;32m     15\u001b[0m     output \u001b[38;5;241m=\u001b[39m \u001b[38;5;28mself\u001b[39m\u001b[38;5;241m.\u001b[39mpool\u001b[38;5;241m.\u001b[39mforward(output)\n",
      "Cell \u001b[0;32mIn [164], line 19\u001b[0m, in \u001b[0;36mConvolutionLayer.forward\u001b[0;34m(self, A)\u001b[0m\n\u001b[1;32m     16\u001b[0m output \u001b[38;5;241m=\u001b[39m np\u001b[38;5;241m.\u001b[39mzeros((A_row \u001b[38;5;241m-\u001b[39m \u001b[38;5;28mself\u001b[39m\u001b[38;5;241m.\u001b[39mkernel_size \u001b[38;5;241m+\u001b[39m \u001b[38;5;241m1\u001b[39m, A_col \u001b[38;5;241m-\u001b[39m \u001b[38;5;28mself\u001b[39m\u001b[38;5;241m.\u001b[39mkernel_size \u001b[38;5;241m+\u001b[39m \u001b[38;5;241m1\u001b[39m, \u001b[38;5;28mself\u001b[39m\u001b[38;5;241m.\u001b[39mnum_filters))\n\u001b[1;32m     18\u001b[0m \u001b[38;5;28;01mfor\u001b[39;00m patch, i, j \u001b[38;5;129;01min\u001b[39;00m \u001b[38;5;28mself\u001b[39m\u001b[38;5;241m.\u001b[39mgenerate_patches(A):\n\u001b[0;32m---> 19\u001b[0m     output[i, j] \u001b[38;5;241m=\u001b[39m \u001b[43mnp\u001b[49m\u001b[38;5;241;43m.\u001b[39;49m\u001b[43msum\u001b[49m\u001b[43m(\u001b[49m\u001b[43mpatch\u001b[49m\u001b[43m \u001b[49m\u001b[38;5;241;43m*\u001b[39;49m\u001b[43m \u001b[49m\u001b[38;5;28;43mself\u001b[39;49m\u001b[38;5;241;43m.\u001b[39;49m\u001b[43mfilters\u001b[49m\u001b[43m,\u001b[49m\u001b[43m \u001b[49m\u001b[43maxis\u001b[49m\u001b[38;5;241;43m=\u001b[39;49m\u001b[43m(\u001b[49m\u001b[38;5;241;43m1\u001b[39;49m\u001b[43m,\u001b[49m\u001b[43m \u001b[49m\u001b[38;5;241;43m2\u001b[39;49m\u001b[43m)\u001b[49m\u001b[43m)\u001b[49m\n\u001b[1;32m     21\u001b[0m \u001b[38;5;28;01mreturn\u001b[39;00m output\n",
      "File \u001b[0;32m<__array_function__ internals>:180\u001b[0m, in \u001b[0;36msum\u001b[0;34m(*args, **kwargs)\u001b[0m\n",
      "File \u001b[0;32m/Library/Frameworks/Python.framework/Versions/3.11/lib/python3.11/site-packages/numpy/core/fromnumeric.py:2298\u001b[0m, in \u001b[0;36msum\u001b[0;34m(a, axis, dtype, out, keepdims, initial, where)\u001b[0m\n\u001b[1;32m   2295\u001b[0m         \u001b[38;5;28;01mreturn\u001b[39;00m out\n\u001b[1;32m   2296\u001b[0m     \u001b[38;5;28;01mreturn\u001b[39;00m res\n\u001b[0;32m-> 2298\u001b[0m \u001b[38;5;28;01mreturn\u001b[39;00m \u001b[43m_wrapreduction\u001b[49m\u001b[43m(\u001b[49m\u001b[43ma\u001b[49m\u001b[43m,\u001b[49m\u001b[43m \u001b[49m\u001b[43mnp\u001b[49m\u001b[38;5;241;43m.\u001b[39;49m\u001b[43madd\u001b[49m\u001b[43m,\u001b[49m\u001b[43m \u001b[49m\u001b[38;5;124;43m'\u001b[39;49m\u001b[38;5;124;43msum\u001b[39;49m\u001b[38;5;124;43m'\u001b[39;49m\u001b[43m,\u001b[49m\u001b[43m \u001b[49m\u001b[43maxis\u001b[49m\u001b[43m,\u001b[49m\u001b[43m \u001b[49m\u001b[43mdtype\u001b[49m\u001b[43m,\u001b[49m\u001b[43m \u001b[49m\u001b[43mout\u001b[49m\u001b[43m,\u001b[49m\u001b[43m \u001b[49m\u001b[43mkeepdims\u001b[49m\u001b[38;5;241;43m=\u001b[39;49m\u001b[43mkeepdims\u001b[49m\u001b[43m,\u001b[49m\n\u001b[1;32m   2299\u001b[0m \u001b[43m                      \u001b[49m\u001b[43minitial\u001b[49m\u001b[38;5;241;43m=\u001b[39;49m\u001b[43minitial\u001b[49m\u001b[43m,\u001b[49m\u001b[43m \u001b[49m\u001b[43mwhere\u001b[49m\u001b[38;5;241;43m=\u001b[39;49m\u001b[43mwhere\u001b[49m\u001b[43m)\u001b[49m\n",
      "File \u001b[0;32m/Library/Frameworks/Python.framework/Versions/3.11/lib/python3.11/site-packages/numpy/core/fromnumeric.py:70\u001b[0m, in \u001b[0;36m_wrapreduction\u001b[0;34m(obj, ufunc, method, axis, dtype, out, **kwargs)\u001b[0m\n\u001b[1;32m     69\u001b[0m \u001b[38;5;28;01mdef\u001b[39;00m \u001b[38;5;21m_wrapreduction\u001b[39m(obj, ufunc, method, axis, dtype, out, \u001b[38;5;241m*\u001b[39m\u001b[38;5;241m*\u001b[39mkwargs):\n\u001b[0;32m---> 70\u001b[0m     passkwargs \u001b[38;5;241m=\u001b[39m {k: v \u001b[38;5;28;01mfor\u001b[39;00m k, v \u001b[38;5;129;01min\u001b[39;00m kwargs\u001b[38;5;241m.\u001b[39mitems()\n\u001b[1;32m     71\u001b[0m                   \u001b[38;5;28;01mif\u001b[39;00m v \u001b[38;5;129;01mis\u001b[39;00m \u001b[38;5;129;01mnot\u001b[39;00m np\u001b[38;5;241m.\u001b[39m_NoValue}\n\u001b[1;32m     73\u001b[0m     \u001b[38;5;28;01mif\u001b[39;00m \u001b[38;5;28mtype\u001b[39m(obj) \u001b[38;5;129;01mis\u001b[39;00m \u001b[38;5;129;01mnot\u001b[39;00m mu\u001b[38;5;241m.\u001b[39mndarray:\n\u001b[1;32m     74\u001b[0m         \u001b[38;5;28;01mtry\u001b[39;00m:\n",
      "\u001b[0;31mKeyboardInterrupt\u001b[0m: "
     ]
    }
   ],
   "source": [
    "for epoch in range(100):\n",
    "    epoch_loss = 0\n",
    "    for i in range(X.shape[0]):\n",
    "        inp = pad(X[i], 1)\n",
    "        inp = normalize(inp)\n",
    "        loss = train(inp, y_one_hot[i])\n",
    "        epoch_loss += loss\n",
    "    \n",
    "    print(f\"Epoch {epoch + 1}, Loss: {epoch_loss / X.shape[0]}, Accuracy: {testing_accuracy()}\")"
   ]
  }
 ],
 "metadata": {
  "kernelspec": {
   "display_name": "Python 3",
   "language": "python",
   "name": "python3"
  },
  "language_info": {
   "codemirror_mode": {
    "name": "ipython",
    "version": 3
   },
   "file_extension": ".py",
   "mimetype": "text/x-python",
   "name": "python",
   "nbconvert_exporter": "python",
   "pygments_lexer": "ipython3",
   "version": "3.11.0"
  }
 },
 "nbformat": 4,
 "nbformat_minor": 2
}
