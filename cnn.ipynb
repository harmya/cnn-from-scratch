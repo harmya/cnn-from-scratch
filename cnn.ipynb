{
 "cells": [
  {
   "cell_type": "code",
   "execution_count": 8,
   "metadata": {},
   "outputs": [],
   "source": [
    "import numpy as np\n",
    "import pandas as pd\n",
    "import matplotlib.pyplot as plt"
   ]
  },
  {
   "cell_type": "code",
   "execution_count": 9,
   "metadata": {},
   "outputs": [],
   "source": [
    "def sep():\n",
    "    print(\"\\n\" + \"-\"*50 + \"\\n\")\n",
    "\n",
    "def pretty(x):\n",
    "    print('\\n'.join(['\\t'.join([str(cell) for cell in row]) for row in x]))"
   ]
  },
  {
   "cell_type": "code",
   "execution_count": 10,
   "metadata": {},
   "outputs": [
    {
     "name": "stdout",
     "output_type": "stream",
     "text": [
      "4\t2\t1\t4\t0\t3\n",
      "0\t2\t4\t4\t0\t4\n",
      "2\t4\t0\t1\t3\t2\n",
      "3\t1\t0\t2\t1\t1\n",
      "4\t3\t2\t0\t1\t0\n",
      "2\t0\t2\t0\t4\t0\n"
     ]
    }
   ],
   "source": [
    "A = np.random.randint(0, 5, size=(6, 6))\n",
    "pretty(A)"
   ]
  },
  {
   "cell_type": "code",
   "execution_count": 11,
   "metadata": {},
   "outputs": [
    {
     "name": "stdout",
     "output_type": "stream",
     "text": [
      "Kernel:\n",
      "1\t1\t1\n",
      "1\t1\t1\n",
      "1\t1\t1\n"
     ]
    }
   ],
   "source": [
    "kernel = np.array([[1, 1, 1], [1, 1, 1], [1, 1, 1]])\n",
    "print(\"Kernel:\")\n",
    "pretty(kernel)"
   ]
  },
  {
   "cell_type": "code",
   "execution_count": 110,
   "metadata": {},
   "outputs": [],
   "source": [
    "def conv2d(A, kernel):\n",
    "    A_row, A_col = A.shape   # A_row is height, A_col is width\n",
    "    kernel_row, kernel_col = kernel.shape\n",
    "    result = np.zeros((A_row - kernel_row + 1, A_col - kernel_col + 1))\n",
    "\n",
    "    for i in range(result.shape[0]):\n",
    "        for j in range(result.shape[1]):\n",
    "            result[i][j] = np.sum(A[i : i + kernel_row, j : j + kernel_col] * kernel)\n",
    "\n",
    "    return result\n"
   ]
  },
  {
   "cell_type": "code",
   "execution_count": 111,
   "metadata": {},
   "outputs": [],
   "source": [
    "def pad(matrix, padding_size):\n",
    "    original_rows, original_cols = matrix.shape\n",
    "\n",
    "    # Create a new matrix filled with zeros, large enough to include the padding\n",
    "    padded_matrix = np.zeros((original_rows + 2 * padding_size, original_cols + 2 * padding_size))\n",
    "    \n",
    "    # Place the original matrix into the center of the padded matrix\n",
    "    padded_matrix[padding_size:-padding_size, padding_size:-padding_size] = matrix\n",
    "    \n",
    "    # Return the padded matrix\n",
    "    return padded_matrix\n"
   ]
  },
  {
   "cell_type": "code",
   "execution_count": 112,
   "metadata": {},
   "outputs": [
    {
     "name": "stdout",
     "output_type": "stream",
     "text": [
      "Padded A:\n",
      "0.0\t0.0\t0.0\t0.0\t0.0\t0.0\t0.0\t0.0\n",
      "0.0\t4.0\t2.0\t1.0\t4.0\t0.0\t3.0\t0.0\n",
      "0.0\t0.0\t2.0\t4.0\t4.0\t0.0\t4.0\t0.0\n",
      "0.0\t2.0\t4.0\t0.0\t1.0\t3.0\t2.0\t0.0\n",
      "0.0\t3.0\t1.0\t0.0\t2.0\t1.0\t1.0\t0.0\n",
      "0.0\t4.0\t3.0\t2.0\t0.0\t1.0\t0.0\t0.0\n",
      "0.0\t2.0\t0.0\t2.0\t0.0\t4.0\t0.0\t0.0\n",
      "0.0\t0.0\t0.0\t0.0\t0.0\t0.0\t0.0\t0.0\n",
      "\n",
      "--------------------------------------------------\n",
      "\n",
      "[[ 8. 13. 17. 13. 15.  7.]\n",
      " [14. 19. 22. 17. 21. 12.]\n",
      " [12. 16. 18. 15. 18. 11.]\n",
      " [17. 19. 13. 10. 11.  8.]\n",
      " [13. 17. 10. 12.  9.  7.]\n",
      " [ 9. 13.  7.  9.  5.  5.]]\n"
     ]
    }
   ],
   "source": [
    "padded_A = pad(A, 1)\n",
    "print(\"Padded A:\")\n",
    "pretty(padded_A)\n",
    "sep()\n",
    "print(conv2d(padded_A, kernel))"
   ]
  },
  {
   "cell_type": "code",
   "execution_count": 113,
   "metadata": {},
   "outputs": [],
   "source": [
    "class ConvolutionLayer:\n",
    "    def __init__(self, kernel_size, num_filters):\n",
    "        self.kernel_size = kernel_size\n",
    "        self.num_filters = num_filters\n",
    "        self.filters = np.random.randn(num_filters, kernel_size, kernel_size) / (kernel_size * kernel_size)\n",
    "\n",
    "    def generate_patches(self, A):\n",
    "        A_row, A_col = A.shape\n",
    "        for i in range(A_row - self.kernel_size + 1):\n",
    "            for j in range(A_col - self.kernel_size + 1):\n",
    "                patch = A[i : i + self.kernel_size, j : j + self.kernel_size]\n",
    "                yield patch, i, j\n",
    "    \n",
    "    def forward(self, A):\n",
    "        self.last_input = A\n",
    "        A_row, A_col = A.shape\n",
    "        output = np.zeros((A_row - self.kernel_size + 1, A_col - self.kernel_size + 1, self.num_filters))\n",
    "\n",
    "        for patch, i, j in self.generate_patches(A):\n",
    "            output[i, j] = np.sum(patch * self.filters, axis=(1, 2))\n",
    "        \n",
    "        return output\n",
    "    \n",
    "    def backprop(self, d_loss_d_output, learning_rate):\n",
    "        d_loss_d_filters = np.zeros(self.filters.shape)\n",
    "\n",
    "        # Iterate over patches in the last input \n",
    "        for patch, row, col in self.generate_patches(self.last_input):\n",
    "            # Update the gradient of the filters\n",
    "            for filter_index in range(self.num_filters):\n",
    "                d_loss_d_filters[filter_index] += d_loss_d_output[row, col, filter_index] * patch\n",
    "\n",
    "        # Update filters using the calculated gradient and learning rate\n",
    "        self.filters -= learning_rate * d_loss_d_filters"
   ]
  },
  {
   "cell_type": "code",
   "execution_count": 114,
   "metadata": {},
   "outputs": [
    {
     "name": "stdout",
     "output_type": "stream",
     "text": [
      "(2, 3, 3)\n",
      "[[[ 0.05024648 -0.02182262 -0.03723842]\n",
      "  [-0.11217252  0.04902679 -0.15616133]\n",
      "  [ 0.22818769 -0.02798445 -0.11776293]]\n",
      "\n",
      " [[-0.04799268 -0.03247145 -0.07324366]\n",
      "  [ 0.04739954 -0.01275943 -0.15069858]\n",
      "  [-0.09307474 -0.1088065   0.13565627]]]\n",
      "\n",
      "--------------------------------------------------\n",
      "\n",
      "(array([[0., 0., 0.],\n",
      "       [0., 4., 2.],\n",
      "       [0., 0., 2.]]), 0, 0)\n",
      "\n",
      "--------------------------------------------------\n",
      "\n",
      "(6, 6, 2)\n",
      "[[-0.35174134 -1.03381844 -0.92657768  0.88474763 -0.47547502  0.0351426 ]\n",
      " [-1.00111057 -0.06205186  0.07182133 -0.67090015 -1.07535623  0.75923349]\n",
      " [-0.80278482  0.43574185 -0.74794076 -0.47949357  0.08524546 -0.12555121]\n",
      " [-0.66690642  0.31898328  0.3678465   0.14696684 -0.44916224  0.27213616]\n",
      " [-0.43105198 -0.26416602 -0.31866322 -0.47606636 -0.02147907  0.8290021 ]\n",
      " [-0.10095214 -0.47562647  0.20514779 -0.78573581  0.17428455 -0.39844361]]\n",
      "\n",
      "--------------------------------------------------\n",
      "\n"
     ]
    }
   ],
   "source": [
    "cnn_layer = ConvolutionLayer(3, 2)\n",
    "print(cnn_layer.filters.shape)\n",
    "print(cnn_layer.filters)\n",
    "sep()\n",
    "\n",
    "patches = cnn_layer.generate_patches(padded_A)\n",
    "print(next(patches))\n",
    "sep()\n",
    "\n",
    "output = cnn_layer.forward(padded_A)\n",
    "print(output.shape)\n",
    "print(output[:, :, 0])\n",
    "sep()"
   ]
  },
  {
   "cell_type": "code",
   "execution_count": 115,
   "metadata": {},
   "outputs": [],
   "source": [
    "class MaxPool2d:\n",
    "    def __init__(self, pool_size):\n",
    "        self.pool_size = pool_size\n",
    "    \n",
    "    def generate_patches(self, A):\n",
    "        A_row, A_col, num_filters = A.shape\n",
    "        for i in range(0, A_row, self.pool_size):\n",
    "            for j in range(0, A_col, self.pool_size):\n",
    "                patch = A[i : i + self.pool_size, j : j + self.pool_size]\n",
    "                yield patch, i, j\n",
    "    \n",
    "    def forward(self, A):\n",
    "        self.last_input = A\n",
    "        A_row, A_col, num_filters = A.shape\n",
    "        output = np.zeros((A_row // self.pool_size, A_col // self.pool_size, num_filters))\n",
    "\n",
    "        for patch, i, j in self.generate_patches(A):\n",
    "            output[i//self.pool_size, j//self.pool_size] = np.amax(patch, axis=(0, 1))\n",
    "        \n",
    "        return output\n",
    "    \n",
    "    def backprop(self, d_loss_d_output):\n",
    "        d_loss_d_input = np.zeros(self.last_input.shape)\n",
    "\n",
    "        # Iterate over the regions as in forward pass\n",
    "        for patch, row, col in self.generate_patches(self.last_input):\n",
    "            patch_height, patch_width, num_channels = patch.shape\n",
    "            max_values = np.amax(patch, axis=(0, 1))\n",
    "\n",
    "            for i in range(patch_height):\n",
    "                for j in range(patch_width):\n",
    "                    for channel in range(num_channels):\n",
    "                        # Find the pizel that was the max value in this patch, and pass the gradient back to it\n",
    "                        if patch[i, j, channel] == max_values[channel]:\n",
    "                            d_loss_d_input[row + i, col + j, channel] = d_loss_d_output[row // self.pool_size, col // self.pool_size, channel]\n",
    "        \n",
    "        return d_loss_d_input\n"
   ]
  },
  {
   "cell_type": "code",
   "execution_count": 116,
   "metadata": {},
   "outputs": [
    {
     "name": "stdout",
     "output_type": "stream",
     "text": [
      "(3, 3, 2)\n",
      "[[-0.06205186  0.88474763  0.75923349]\n",
      " [ 0.43574185  0.3678465   0.27213616]\n",
      " [-0.10095214  0.20514779  0.8290021 ]]\n"
     ]
    }
   ],
   "source": [
    "max_pool = MaxPool2d(2)\n",
    "output = max_pool.forward(output)\n",
    "print(output.shape)\n",
    "print(output[:, :, 0])"
   ]
  },
  {
   "cell_type": "code",
   "execution_count": 117,
   "metadata": {},
   "outputs": [],
   "source": [
    "class LinearLayer:\n",
    "    def __init__(self, num_inputs, num_outputs):\n",
    "        self.weights = np.random.randn(num_inputs, num_outputs) / num_inputs\n",
    "        self.bias = np.zeros(num_outputs)\n",
    "    \n",
    "    def softmax(self, A):\n",
    "        expA = np.exp(A)\n",
    "        return expA / expA.sum(axis=0)\n",
    "\n",
    "    def forward(self, A):\n",
    "        self.shape_before_flattening = A.shape\n",
    "        A = A.flatten()\n",
    "        self.input_to_last_layer = A\n",
    "        input_size, output_size = self.weights.shape\n",
    "        self.logits = np.dot(A, self.weights) + self.bias\n",
    "        return self.softmax(self.logits)\n",
    "\n",
    "    def backprop(self, d_L_d_out, learn_rate):\n",
    "        for i, gradient in enumerate(d_L_d_out):\n",
    "            if gradient == 0:\n",
    "                continue\n",
    "\n",
    "            # e^t for every element of the output\n",
    "            a_exp = np.exp(self.logits)\n",
    "\n",
    "            # Sum of all e^t\n",
    "            S = np.sum(a_exp)\n",
    "\n",
    "            # Gradients of out[i] against totals (logits)\n",
    "            d_Z_d_a = -a_exp[i] * a_exp / (S ** 2)\n",
    "            d_Z_d_a[i] = a_exp[i] * (S - a_exp[i]) / (S ** 2)\n",
    "\n",
    "            # Gradients of totals (logits) against weights, biases, and inputs\n",
    "            d_a_d_w = self.input_to_last_layer  # Gradient of totals w.r.t weights\n",
    "            d_a_d_b = 1  # Gradient of totals w.r.t biases\n",
    "            d_a_d_inputs = self.weights  # Gradient of totals w.r.t inputs\n",
    "\n",
    "            # Gradient of the loss w.r.t totals (logits)\n",
    "            d_L_d_t = gradient * d_Z_d_a\n",
    "\n",
    "            # Gradient of the loss w.r.t weights, biases, and inputs\n",
    "            d_L_d_w = d_a_d_w[np.newaxis].T @ d_L_d_t[np.newaxis]\n",
    "            d_L_d_b = d_L_d_t * d_a_d_b\n",
    "            d_L_d_inputs = d_a_d_inputs @ d_L_d_t\n",
    "\n",
    "            # Update weights and biases using gradient descent\n",
    "            self.weights -= learn_rate * d_L_d_w\n",
    "            self.bias -= learn_rate * d_L_d_b\n",
    "\n",
    "            # Return the gradient of the loss w.r.t inputs\n",
    "            return d_L_d_inputs.reshape(self.shape_before_flattening)\n",
    "\n",
    "\n",
    "        "
   ]
  },
  {
   "cell_type": "code",
   "execution_count": 118,
   "metadata": {},
   "outputs": [
    {
     "name": "stdout",
     "output_type": "stream",
     "text": [
      "[0.2141682  0.18942    0.19183843 0.18279042 0.22178295]\n"
     ]
    }
   ],
   "source": [
    "linear_layer = LinearLayer(18, 5)\n",
    "output = linear_layer.forward(output)\n",
    "print(output)"
   ]
  },
  {
   "cell_type": "code",
   "execution_count": 119,
   "metadata": {},
   "outputs": [
    {
     "data": {
      "text/html": [
       "<div>\n",
       "<style scoped>\n",
       "    .dataframe tbody tr th:only-of-type {\n",
       "        vertical-align: middle;\n",
       "    }\n",
       "\n",
       "    .dataframe tbody tr th {\n",
       "        vertical-align: top;\n",
       "    }\n",
       "\n",
       "    .dataframe thead th {\n",
       "        text-align: right;\n",
       "    }\n",
       "</style>\n",
       "<table border=\"1\" class=\"dataframe\">\n",
       "  <thead>\n",
       "    <tr style=\"text-align: right;\">\n",
       "      <th></th>\n",
       "      <th>label</th>\n",
       "      <th>1x1</th>\n",
       "      <th>1x2</th>\n",
       "      <th>1x3</th>\n",
       "      <th>1x4</th>\n",
       "      <th>1x5</th>\n",
       "      <th>1x6</th>\n",
       "      <th>1x7</th>\n",
       "      <th>1x8</th>\n",
       "      <th>1x9</th>\n",
       "      <th>...</th>\n",
       "      <th>28x19</th>\n",
       "      <th>28x20</th>\n",
       "      <th>28x21</th>\n",
       "      <th>28x22</th>\n",
       "      <th>28x23</th>\n",
       "      <th>28x24</th>\n",
       "      <th>28x25</th>\n",
       "      <th>28x26</th>\n",
       "      <th>28x27</th>\n",
       "      <th>28x28</th>\n",
       "    </tr>\n",
       "  </thead>\n",
       "  <tbody>\n",
       "    <tr>\n",
       "      <th>0</th>\n",
       "      <td>5</td>\n",
       "      <td>0</td>\n",
       "      <td>0</td>\n",
       "      <td>0</td>\n",
       "      <td>0</td>\n",
       "      <td>0</td>\n",
       "      <td>0</td>\n",
       "      <td>0</td>\n",
       "      <td>0</td>\n",
       "      <td>0</td>\n",
       "      <td>...</td>\n",
       "      <td>0</td>\n",
       "      <td>0</td>\n",
       "      <td>0</td>\n",
       "      <td>0</td>\n",
       "      <td>0</td>\n",
       "      <td>0</td>\n",
       "      <td>0</td>\n",
       "      <td>0</td>\n",
       "      <td>0</td>\n",
       "      <td>0</td>\n",
       "    </tr>\n",
       "    <tr>\n",
       "      <th>1</th>\n",
       "      <td>0</td>\n",
       "      <td>0</td>\n",
       "      <td>0</td>\n",
       "      <td>0</td>\n",
       "      <td>0</td>\n",
       "      <td>0</td>\n",
       "      <td>0</td>\n",
       "      <td>0</td>\n",
       "      <td>0</td>\n",
       "      <td>0</td>\n",
       "      <td>...</td>\n",
       "      <td>0</td>\n",
       "      <td>0</td>\n",
       "      <td>0</td>\n",
       "      <td>0</td>\n",
       "      <td>0</td>\n",
       "      <td>0</td>\n",
       "      <td>0</td>\n",
       "      <td>0</td>\n",
       "      <td>0</td>\n",
       "      <td>0</td>\n",
       "    </tr>\n",
       "    <tr>\n",
       "      <th>2</th>\n",
       "      <td>4</td>\n",
       "      <td>0</td>\n",
       "      <td>0</td>\n",
       "      <td>0</td>\n",
       "      <td>0</td>\n",
       "      <td>0</td>\n",
       "      <td>0</td>\n",
       "      <td>0</td>\n",
       "      <td>0</td>\n",
       "      <td>0</td>\n",
       "      <td>...</td>\n",
       "      <td>0</td>\n",
       "      <td>0</td>\n",
       "      <td>0</td>\n",
       "      <td>0</td>\n",
       "      <td>0</td>\n",
       "      <td>0</td>\n",
       "      <td>0</td>\n",
       "      <td>0</td>\n",
       "      <td>0</td>\n",
       "      <td>0</td>\n",
       "    </tr>\n",
       "    <tr>\n",
       "      <th>3</th>\n",
       "      <td>1</td>\n",
       "      <td>0</td>\n",
       "      <td>0</td>\n",
       "      <td>0</td>\n",
       "      <td>0</td>\n",
       "      <td>0</td>\n",
       "      <td>0</td>\n",
       "      <td>0</td>\n",
       "      <td>0</td>\n",
       "      <td>0</td>\n",
       "      <td>...</td>\n",
       "      <td>0</td>\n",
       "      <td>0</td>\n",
       "      <td>0</td>\n",
       "      <td>0</td>\n",
       "      <td>0</td>\n",
       "      <td>0</td>\n",
       "      <td>0</td>\n",
       "      <td>0</td>\n",
       "      <td>0</td>\n",
       "      <td>0</td>\n",
       "    </tr>\n",
       "    <tr>\n",
       "      <th>4</th>\n",
       "      <td>9</td>\n",
       "      <td>0</td>\n",
       "      <td>0</td>\n",
       "      <td>0</td>\n",
       "      <td>0</td>\n",
       "      <td>0</td>\n",
       "      <td>0</td>\n",
       "      <td>0</td>\n",
       "      <td>0</td>\n",
       "      <td>0</td>\n",
       "      <td>...</td>\n",
       "      <td>0</td>\n",
       "      <td>0</td>\n",
       "      <td>0</td>\n",
       "      <td>0</td>\n",
       "      <td>0</td>\n",
       "      <td>0</td>\n",
       "      <td>0</td>\n",
       "      <td>0</td>\n",
       "      <td>0</td>\n",
       "      <td>0</td>\n",
       "    </tr>\n",
       "  </tbody>\n",
       "</table>\n",
       "<p>5 rows × 785 columns</p>\n",
       "</div>"
      ],
      "text/plain": [
       "   label  1x1  1x2  1x3  1x4  1x5  1x6  1x7  1x8  1x9  ...  28x19  28x20  \\\n",
       "0      5    0    0    0    0    0    0    0    0    0  ...      0      0   \n",
       "1      0    0    0    0    0    0    0    0    0    0  ...      0      0   \n",
       "2      4    0    0    0    0    0    0    0    0    0  ...      0      0   \n",
       "3      1    0    0    0    0    0    0    0    0    0  ...      0      0   \n",
       "4      9    0    0    0    0    0    0    0    0    0  ...      0      0   \n",
       "\n",
       "   28x21  28x22  28x23  28x24  28x25  28x26  28x27  28x28  \n",
       "0      0      0      0      0      0      0      0      0  \n",
       "1      0      0      0      0      0      0      0      0  \n",
       "2      0      0      0      0      0      0      0      0  \n",
       "3      0      0      0      0      0      0      0      0  \n",
       "4      0      0      0      0      0      0      0      0  \n",
       "\n",
       "[5 rows x 785 columns]"
      ]
     },
     "execution_count": 119,
     "metadata": {},
     "output_type": "execute_result"
    }
   ],
   "source": [
    "mnist = pd.read_csv('mnist_train.csv')\n",
    "mnist.head()"
   ]
  },
  {
   "cell_type": "code",
   "execution_count": 120,
   "metadata": {},
   "outputs": [
    {
     "name": "stdout",
     "output_type": "stream",
     "text": [
      "(1000, 28, 28)\n",
      "(1000, 10)\n",
      "(500, 28, 28)\n",
      "(500,)\n",
      "[[  1 154 253  90   0   0   0   0   0   0]\n",
      " [  0 139 253 190   2   0   0   0   0   0]\n",
      " [  0  11 190 253  70   0   0   0   0   0]\n",
      " [  0   0  35 241 225 160 108   1   0   0]\n",
      " [  0   0   0  81 240 253 253 119  25   0]\n",
      " [  0   0   0   0  45 186 253 253 150  27]\n",
      " [  0   0   0   0   0  16  93 252 253 187]\n",
      " [  0   0   0   0   0   0   0 249 253 249]\n",
      " [  0   0   0   0  46 130 183 253 253 207]\n",
      " [  0   0  39 148 229 253 253 253 250 182]]\n"
     ]
    }
   ],
   "source": [
    "data = mnist.values\n",
    "split_index = int(0.8 * data.shape[0])\n",
    "data_train = data[:split_index]\n",
    "data_test = data[split_index:]\n",
    "\n",
    "# get random sample of 1000 for training\n",
    "X = data[:1000, 1:].reshape(-1, 28, 28)\n",
    "y = data[:1000, 0]\n",
    "\n",
    "# get random sample of 500 for testing\n",
    "X_test = data[2000:2500, 1:].reshape(-1, 28, 28)\n",
    "y_test = data[2000:2500, 0]\n",
    "\n",
    "y_one_hot = np.zeros((y.shape[0], 10))\n",
    "y_one_hot[np.arange(y.shape[0]), y] = 1\n",
    "\n",
    "\n",
    "print(X.shape)\n",
    "print(y_one_hot.shape)\n",
    "\n",
    "print(X_test.shape)\n",
    "print(y_test.shape)\n",
    "\n",
    "print(X[0, 10:20, 10:20])"
   ]
  },
  {
   "cell_type": "code",
   "execution_count": 121,
   "metadata": {},
   "outputs": [
    {
     "data": {
      "image/png": "[encoded data removed]",
      "text/plain": [
       "<Figure size 640x480 with 1 Axes>"
      ]
     },
     "metadata": {},
     "output_type": "display_data"
    }
   ],
   "source": [
    "def show_img(img):\n",
    "    plt.imshow(img, cmap='gray')\n",
    "    plt.show()\n",
    "\n",
    "show_img(X[5])"
   ]
  },
  {
   "cell_type": "code",
   "execution_count": 122,
   "metadata": {},
   "outputs": [],
   "source": [
    "class CNN:\n",
    "    def __init__(self, num_classes):\n",
    "        self.conv = ConvolutionLayer(3, 8)\n",
    "        self.pool = MaxPool2d(2)\n",
    "        # self.linear = LinearLayer(13 * 13 * 8, num_classes)\n",
    "        self.linear = LinearLayer(14 * 14 * 8, num_classes)\n",
    "        \n",
    "    \n",
    "    def forward(self, A):\n",
    "        output = self.conv.forward(A)\n",
    "        # print(\"After Convolution Layer:\")\n",
    "        # print(output.shape)\n",
    "        # sep()\n",
    "\n",
    "        output = self.pool.forward(output)\n",
    "        # print(\"After Max Pooling Layer:\")\n",
    "        # print(output.shape)\n",
    "        # sep()\n",
    "        \n",
    "        output = self.linear.forward(output)\n",
    "        # print(\"After Linear Layer:\")\n",
    "        # print(output.shape)\n",
    "        \n",
    "        return output\n",
    "    \n",
    "    def backprop(self, y, y_hat, learn_rate):\n",
    "        grad = np.zeros(y.shape)\n",
    "        grad[np.argmax(y)] = -1 / y_hat[np.argmax(y)]\n",
    "\n",
    "        grad = self.linear.backprop(grad, learn_rate)\n",
    "        grad = self.pool.backprop(grad)\n",
    "        grad = self.conv.backprop(grad, learn_rate)\n",
    "\n",
    "        return grad\n"
   ]
  },
  {
   "cell_type": "markdown",
   "metadata": {},
   "source": [
    "### How is it 13x13x8?"
   ]
  },
  {
   "cell_type": "markdown",
   "metadata": {},
   "source": [
    "Input was an image of size 28x28\n",
    "Now, we have a kernel size of 3 x 3, so we will end up with a 28 - 3 + 1 = 26 x 26 image.\n",
    "Since we have 8 filters, we will end up with 26 x 26 x 8 image after the first convolutional layer.\n",
    "\n",
    "Now, we have a max pooling layer with a pool size of 2 x 2, so each block of 2 x 2 pixels will be reduced to 1 pixel. So, we will end up with a 13 x 13 x 8 image after the first max pooling layer."
   ]
  },
  {
   "cell_type": "code",
   "execution_count": 123,
   "metadata": {},
   "outputs": [],
   "source": [
    "cnn = CNN(10)"
   ]
  },
  {
   "cell_type": "code",
   "execution_count": 124,
   "metadata": {},
   "outputs": [],
   "source": [
    "def normalize(inp):\n",
    "    # Normalize the input to be between 0 and 1\n",
    "    inp = inp.astype(np.float32)\n",
    "    inp /= 255.0\n",
    "    return inp"
   ]
  },
  {
   "cell_type": "code",
   "execution_count": 129,
   "metadata": {},
   "outputs": [
    {
     "name": "stdout",
     "output_type": "stream",
     "text": [
      "(10,)\n",
      "0\n"
     ]
    },
    {
     "data": {
      "image/png": "[encoded data removed]",
      "text/plain": [
       "<Figure size 640x480 with 1 Axes>"
      ]
     },
     "metadata": {},
     "output_type": "display_data"
    }
   ],
   "source": [
    "random_index = np.random.randint(0, X.shape[0])\n",
    "inp = pad(X[random_index], 1)\n",
    "inp = normalize(inp)\n",
    "\n",
    "output = cnn.forward(inp)\n",
    "print(output.shape)\n",
    "print(np.argmax(output))\n",
    "show_img(X[random_index])"
   ]
  },
  {
   "cell_type": "code",
   "execution_count": 130,
   "metadata": {},
   "outputs": [],
   "source": [
    "def cross_entropy_loss(y, y_hat):\n",
    "    return -np.sum(y * np.log(y_hat))"
   ]
  },
  {
   "cell_type": "code",
   "execution_count": 131,
   "metadata": {},
   "outputs": [],
   "source": [
    "def testing_accuracy():\n",
    "    correct = 0\n",
    "    for i in range(X_test.shape[0]):\n",
    "        inp = pad(X_test[i], 1)\n",
    "        inp = normalize(inp)\n",
    "        output = cnn.forward(inp)\n",
    "        if np.argmax(output) == y_test[i]:\n",
    "            correct += 1\n",
    "    return correct / X.shape[0]"
   ]
  },
  {
   "cell_type": "code",
   "execution_count": 132,
   "metadata": {},
   "outputs": [
    {
     "data": {
      "text/plain": [
       "0.021"
      ]
     },
     "execution_count": 132,
     "metadata": {},
     "output_type": "execute_result"
    }
   ],
   "source": [
    "testing_accuracy()"
   ]
  },
  {
   "cell_type": "code",
   "execution_count": 134,
   "metadata": {},
   "outputs": [],
   "source": [
    "def train(im, label, lr=.001):\n",
    "    # Forward\n",
    "    out = cnn.forward(im)\n",
    "    loss = cross_entropy_loss(label, out)\n",
    "    cnn.backprop(label, out, lr)\n",
    "\n",
    "    return loss"
   ]
  },
  {
   "cell_type": "code",
   "execution_count": 135,
   "metadata": {},
   "outputs": [
    {
     "name": "stdout",
     "output_type": "stream",
     "text": [
      "Epoch 1, Loss: 2.132071279743518, Accuracy: 0.325\n",
      "Epoch 2, Loss: 1.3201957635926433, Accuracy: 0.389\n",
      "Epoch 3, Loss: 0.7081698657894987, Accuracy: 0.408\n",
      "Epoch 4, Loss: 0.5292081700144442, Accuracy: 0.421\n",
      "Epoch 5, Loss: 0.45171967755437237, Accuracy: 0.426\n",
      "Epoch 6, Loss: 0.4053385787444739, Accuracy: 0.429\n",
      "Epoch 7, Loss: 0.37256030805032414, Accuracy: 0.432\n",
      "Epoch 8, Loss: 0.3470806866577148, Accuracy: 0.432\n",
      "Epoch 9, Loss: 0.3260483590991805, Accuracy: 0.432\n",
      "Epoch 10, Loss: 0.3080034161884252, Accuracy: 0.431\n",
      "Epoch 11, Loss: 0.29211971303313367, Accuracy: 0.429\n",
      "Epoch 12, Loss: 0.27789439908990143, Accuracy: 0.429\n",
      "Epoch 13, Loss: 0.2649950165968772, Accuracy: 0.427\n",
      "Epoch 14, Loss: 0.2531902595272727, Accuracy: 0.427\n",
      "Epoch 15, Loss: 0.24230658796905535, Accuracy: 0.429\n",
      "Epoch 16, Loss: 0.23220840149593075, Accuracy: 0.428\n",
      "Epoch 17, Loss: 0.22278413432419591, Accuracy: 0.429\n",
      "Epoch 18, Loss: 0.21394520201414394, Accuracy: 0.428\n",
      "Epoch 19, Loss: 0.20561722974283803, Accuracy: 0.431\n",
      "Epoch 20, Loss: 0.19773991478101344, Accuracy: 0.432\n",
      "Epoch 21, Loss: 0.19026374241282362, Accuracy: 0.433\n",
      "Epoch 22, Loss: 0.18315101376791607, Accuracy: 0.433\n",
      "Epoch 23, Loss: 0.17636761534408982, Accuracy: 0.431\n",
      "Epoch 24, Loss: 0.16988377835199317, Accuracy: 0.431\n",
      "Epoch 25, Loss: 0.16367628182173963, Accuracy: 0.433\n"
     ]
    },
    {
     "ename": "KeyboardInterrupt",
     "evalue": "",
     "output_type": "error",
     "traceback": [
      "\u001b[0;31m---------------------------------------------------------------------------\u001b[0m",
      "\u001b[0;31mKeyboardInterrupt\u001b[0m                         Traceback (most recent call last)",
      "Cell \u001b[0;32mIn[135], line 6\u001b[0m\n\u001b[1;32m      4\u001b[0m     inp \u001b[38;5;241m=\u001b[39m pad(X[i], \u001b[38;5;241m1\u001b[39m)\n\u001b[1;32m      5\u001b[0m     inp \u001b[38;5;241m=\u001b[39m normalize(inp)\n\u001b[0;32m----> 6\u001b[0m     loss \u001b[38;5;241m=\u001b[39m \u001b[43mtrain\u001b[49m\u001b[43m(\u001b[49m\u001b[43minp\u001b[49m\u001b[43m,\u001b[49m\u001b[43m \u001b[49m\u001b[43my_one_hot\u001b[49m\u001b[43m[\u001b[49m\u001b[43mi\u001b[49m\u001b[43m]\u001b[49m\u001b[43m)\u001b[49m\n\u001b[1;32m      7\u001b[0m     epoch_loss \u001b[38;5;241m+\u001b[39m\u001b[38;5;241m=\u001b[39m loss\n\u001b[1;32m      9\u001b[0m \u001b[38;5;28mprint\u001b[39m(\u001b[38;5;124mf\u001b[39m\u001b[38;5;124m\"\u001b[39m\u001b[38;5;124mEpoch \u001b[39m\u001b[38;5;132;01m{\u001b[39;00mepoch \u001b[38;5;241m+\u001b[39m \u001b[38;5;241m1\u001b[39m\u001b[38;5;132;01m}\u001b[39;00m\u001b[38;5;124m, Loss: \u001b[39m\u001b[38;5;132;01m{\u001b[39;00mepoch_loss \u001b[38;5;241m/\u001b[39m X\u001b[38;5;241m.\u001b[39mshape[\u001b[38;5;241m0\u001b[39m]\u001b[38;5;132;01m}\u001b[39;00m\u001b[38;5;124m, Accuracy: \u001b[39m\u001b[38;5;132;01m{\u001b[39;00mtesting_accuracy()\u001b[38;5;132;01m}\u001b[39;00m\u001b[38;5;124m\"\u001b[39m)\n",
      "Cell \u001b[0;32mIn[134], line 5\u001b[0m, in \u001b[0;36mtrain\u001b[0;34m(im, label, lr)\u001b[0m\n\u001b[1;32m      3\u001b[0m out \u001b[38;5;241m=\u001b[39m cnn\u001b[38;5;241m.\u001b[39mforward(im)\n\u001b[1;32m      4\u001b[0m loss \u001b[38;5;241m=\u001b[39m cross_entropy_loss(label, out)\n\u001b[0;32m----> 5\u001b[0m \u001b[43mcnn\u001b[49m\u001b[38;5;241;43m.\u001b[39;49m\u001b[43mbackprop\u001b[49m\u001b[43m(\u001b[49m\u001b[43mlabel\u001b[49m\u001b[43m,\u001b[49m\u001b[43m \u001b[49m\u001b[43mout\u001b[49m\u001b[43m,\u001b[49m\u001b[43m \u001b[49m\u001b[43mlr\u001b[49m\u001b[43m)\u001b[49m\n\u001b[1;32m      7\u001b[0m \u001b[38;5;28;01mreturn\u001b[39;00m loss\n",
      "Cell \u001b[0;32mIn[122], line 32\u001b[0m, in \u001b[0;36mCNN.backprop\u001b[0;34m(self, y, y_hat, learn_rate)\u001b[0m\n\u001b[1;32m     30\u001b[0m grad \u001b[38;5;241m=\u001b[39m \u001b[38;5;28mself\u001b[39m\u001b[38;5;241m.\u001b[39mlinear\u001b[38;5;241m.\u001b[39mbackprop(grad, learn_rate)\n\u001b[1;32m     31\u001b[0m grad \u001b[38;5;241m=\u001b[39m \u001b[38;5;28mself\u001b[39m\u001b[38;5;241m.\u001b[39mpool\u001b[38;5;241m.\u001b[39mbackprop(grad)\n\u001b[0;32m---> 32\u001b[0m grad \u001b[38;5;241m=\u001b[39m \u001b[38;5;28;43mself\u001b[39;49m\u001b[38;5;241;43m.\u001b[39;49m\u001b[43mconv\u001b[49m\u001b[38;5;241;43m.\u001b[39;49m\u001b[43mbackprop\u001b[49m\u001b[43m(\u001b[49m\u001b[43mgrad\u001b[49m\u001b[43m,\u001b[49m\u001b[43m \u001b[49m\u001b[43mlearn_rate\u001b[49m\u001b[43m)\u001b[49m\n\u001b[1;32m     34\u001b[0m \u001b[38;5;28;01mreturn\u001b[39;00m grad\n",
      "Cell \u001b[0;32mIn[113], line 31\u001b[0m, in \u001b[0;36mConvolutionLayer.backprop\u001b[0;34m(self, d_loss_d_output, learning_rate)\u001b[0m\n\u001b[1;32m     28\u001b[0m \u001b[38;5;28;01mfor\u001b[39;00m patch, row, col \u001b[38;5;129;01min\u001b[39;00m \u001b[38;5;28mself\u001b[39m\u001b[38;5;241m.\u001b[39mgenerate_patches(\u001b[38;5;28mself\u001b[39m\u001b[38;5;241m.\u001b[39mlast_input):\n\u001b[1;32m     29\u001b[0m     \u001b[38;5;66;03m# Update the gradient of the filters\u001b[39;00m\n\u001b[1;32m     30\u001b[0m     \u001b[38;5;28;01mfor\u001b[39;00m filter_index \u001b[38;5;129;01min\u001b[39;00m \u001b[38;5;28mrange\u001b[39m(\u001b[38;5;28mself\u001b[39m\u001b[38;5;241m.\u001b[39mnum_filters):\n\u001b[0;32m---> 31\u001b[0m         d_loss_d_filters[filter_index] \u001b[38;5;241m+\u001b[39m\u001b[38;5;241m=\u001b[39m d_loss_d_output[row, col, filter_index] \u001b[38;5;241m*\u001b[39m patch\n\u001b[1;32m     33\u001b[0m \u001b[38;5;66;03m# Update filters using the calculated gradient and learning rate\u001b[39;00m\n\u001b[1;32m     34\u001b[0m \u001b[38;5;28mself\u001b[39m\u001b[38;5;241m.\u001b[39mfilters \u001b[38;5;241m-\u001b[39m\u001b[38;5;241m=\u001b[39m learning_rate \u001b[38;5;241m*\u001b[39m d_loss_d_filters\n",
      "\u001b[0;31mKeyboardInterrupt\u001b[0m: "
     ]
    }
   ],
   "source": [
    "for epoch in range(100):\n",
    "    epoch_loss = 0\n",
    "    for i in range(X.shape[0]):\n",
    "        inp = pad(X[i], 1)\n",
    "        inp = normalize(inp)\n",
    "        loss = train(inp, y_one_hot[i])\n",
    "        epoch_loss += loss\n",
    "    \n",
    "    print(f\"Epoch {epoch + 1}, Loss: {epoch_loss / X.shape[0]}, Accuracy: {testing_accuracy()}\")"
   ]
  }
 ],
 "metadata": {
  "kernelspec": {
   "display_name": "Python 3",
   "language": "python",
   "name": "python3"
  },
  "language_info": {
   "codemirror_mode": {
    "name": "ipython",
    "version": 3
   },
   "file_extension": ".py",
   "mimetype": "text/x-python",
   "name": "python",
   "nbconvert_exporter": "python",
   "pygments_lexer": "ipython3",
   "version": "3.11.0"
  }
 },
 "nbformat": 4,
 "nbformat_minor": 2
}
