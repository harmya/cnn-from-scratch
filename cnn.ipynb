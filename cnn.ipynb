{
 "cells": [
  {
   "cell_type": "code",
   "execution_count": 117,
   "metadata": {},
   "outputs": [],
   "source": [
    "import numpy as np\n",
    "import pandas as pd\n",
    "import matplotlib.pyplot as plt"
   ]
  },
  {
   "cell_type": "code",
   "execution_count": 22,
   "metadata": {},
   "outputs": [],
   "source": [
    "def sep():\n",
    "    print(\"\\n\" + \"-\"*50 + \"\\n\")"
   ]
  },
  {
   "cell_type": "code",
   "execution_count": 106,
   "metadata": {},
   "outputs": [
    {
     "name": "stdout",
     "output_type": "stream",
     "text": [
      "4\t0\t4\t1\t1\t0\n",
      "3\t1\t1\t1\t0\t0\n",
      "4\t0\t0\t3\t2\t1\n",
      "1\t3\t4\t2\t4\t0\n",
      "4\t3\t0\t3\t0\t1\n",
      "2\t3\t4\t4\t2\t2\n"
     ]
    }
   ],
   "source": [
    "A = np.random.randint(0, 5, size=(6, 6))\n",
    "print('\\n'.join(['\\t'.join([str(cell) for cell in row]) for row in A]))"
   ]
  },
  {
   "cell_type": "code",
   "execution_count": 107,
   "metadata": {},
   "outputs": [
    {
     "name": "stdout",
     "output_type": "stream",
     "text": [
      "1\t1\t1\n",
      "1\t1\t1\n",
      "1\t1\t1\n"
     ]
    }
   ],
   "source": [
    "kernel = np.array([[1, 1, 1], [1, 1, 1], [1, 1, 1]])\n",
    "print('\\n'.join(['\\t'.join([str(cell) for cell in row]) for row in kernel]))"
   ]
  },
  {
   "cell_type": "code",
   "execution_count": 108,
   "metadata": {},
   "outputs": [],
   "source": [
    "def conv2d(A, kernel):\n",
    "    A_row, A_col = A.shape\n",
    "    kernel_row, kernel_col = kernel.shape\n",
    "    result = np.zeros((A_row - kernel_row + 1, A_col - kernel_col + 1))\n",
    "    for i in range(result.shape[0]):\n",
    "        for j in range(result.shape[1]):\n",
    "            result[i][j] = np.sum(A[i:i+kernel_row, j:j+kernel_col] * kernel)\n",
    "    return result"
   ]
  },
  {
   "cell_type": "code",
   "execution_count": 109,
   "metadata": {},
   "outputs": [],
   "source": [
    "def pad(matrix, padding_size):\n",
    "    original_rows, original_cols = matrix.shape\n",
    "\n",
    "    # Create a new matrix filled with zeros, large enough to include the padding\n",
    "    padded_matrix = np.zeros((original_rows + 2 * padding_size, original_cols + 2 * padding_size))\n",
    "    \n",
    "    # Place the original matrix into the center of the padded matrix\n",
    "    padded_matrix[padding_size:-padding_size, padding_size:-padding_size] = matrix\n",
    "    \n",
    "    # Return the padded matrix\n",
    "    return padded_matrix\n"
   ]
  },
  {
   "cell_type": "code",
   "execution_count": 110,
   "metadata": {},
   "outputs": [
    {
     "name": "stdout",
     "output_type": "stream",
     "text": [
      "[[0. 0. 0. 0. 0. 0. 0. 0.]\n",
      " [0. 4. 0. 4. 1. 1. 0. 0.]\n",
      " [0. 3. 1. 1. 1. 0. 0. 0.]\n",
      " [0. 4. 0. 0. 3. 2. 1. 0.]\n",
      " [0. 1. 3. 4. 2. 4. 0. 0.]\n",
      " [0. 4. 3. 0. 3. 0. 1. 0.]\n",
      " [0. 2. 3. 4. 4. 2. 2. 0.]\n",
      " [0. 0. 0. 0. 0. 0. 0. 0.]]\n",
      "\n",
      "[[ 8. 13.  8.  8.  3.  1.]\n",
      " [12. 17. 11. 13.  9.  4.]\n",
      " [12. 17. 15. 17. 13.  7.]\n",
      " [15. 19. 18. 18. 16.  8.]\n",
      " [16. 24. 26. 23. 18.  9.]\n",
      " [12. 16. 17. 13. 12.  5.]]\n"
     ]
    }
   ],
   "source": [
    "A = pad(A, 1)\n",
    "print(A)\n",
    "print()\n",
    "print(conv2d(A, kernel))"
   ]
  },
  {
   "cell_type": "code",
   "execution_count": 111,
   "metadata": {},
   "outputs": [],
   "source": [
    "class ConvolutionLayer:\n",
    "    def __init__(self, kernel_size, num_filters):\n",
    "        self.kernel_size = kernel_size\n",
    "        self.num_filters = num_filters\n",
    "        self.filters = np.random.randn(num_filters, kernel_size, kernel_size) / (kernel_size * kernel_size)\n",
    "\n",
    "    def generate_patches(self, A):\n",
    "        A_row, A_col = A.shape\n",
    "        for i in range(A_row - self.kernel_size + 1):\n",
    "            for j in range(A_col - self.kernel_size + 1):\n",
    "                patch = A[i:i+self.kernel_size, j:j+self.kernel_size]\n",
    "                yield patch, i, j\n",
    "    \n",
    "    def forward(self, A):\n",
    "        A_row, A_col = A.shape\n",
    "        output = np.zeros((A_row - self.kernel_size + 1, A_col - self.kernel_size + 1, self.num_filters))\n",
    "\n",
    "        for patch, i, j in self.generate_patches(A):\n",
    "            output[i, j] = np.sum(patch * self.filters, axis=(1, 2))\n",
    "        \n",
    "        return output"
   ]
  },
  {
   "cell_type": "code",
   "execution_count": 113,
   "metadata": {},
   "outputs": [
    {
     "name": "stdout",
     "output_type": "stream",
     "text": [
      "(2, 3, 3)\n",
      "[[[-0.06584703  0.10801163  0.07549601]\n",
      "  [ 0.15854777 -0.07494226 -0.01909331]\n",
      "  [ 0.05528397 -0.08124301 -0.0266434 ]]\n",
      "\n",
      " [[-0.07270484  0.00721706 -0.08292324]\n",
      "  [ 0.14406211 -0.07407455  0.01159387]\n",
      "  [ 0.02016602  0.10886488 -0.04309509]]]\n",
      "\n",
      "--------------------------------------------------\n",
      "\n",
      "(array([[0., 0., 0.],\n",
      "       [0., 4., 0.],\n",
      "       [0., 3., 1.]]), 0, 0)\n",
      "\n",
      "--------------------------------------------------\n",
      "\n",
      "(6, 6, 2)\n",
      "[[-0.57014149  0.61578336 -0.3714648   0.51419648  0.13888948  0.15854777]\n",
      " [-0.13684562  0.64133955  0.49212454 -0.2932908   0.17743485 -0.03652211]\n",
      " [-0.06141136  0.32513899 -0.15202626 -0.26877255  0.02641435  0.46328916]\n",
      " [-0.10507791 -0.42863351  0.45009739  0.63923121  0.2505132   0.52926566]\n",
      " [-0.26496554  0.7298015   0.53816711 -0.12733059  0.76226554 -0.39024846]\n",
      " [ 0.4513701   0.07654233  0.12844799  0.62027034  0.32407489  0.27522266]]\n",
      "\n",
      "--------------------------------------------------\n",
      "\n"
     ]
    }
   ],
   "source": [
    "cnn_layer = ConvolutionLayer(3, 2)\n",
    "print(cnn_layer.filters.shape)\n",
    "print(cnn_layer.filters)\n",
    "sep()\n",
    "\n",
    "patches = cnn_layer.generate_patches(A)\n",
    "print(next(patches))\n",
    "sep()\n",
    "\n",
    "output = cnn_layer.forward(A)\n",
    "print(output.shape)\n",
    "print(output[:, :, 0])\n",
    "sep()"
   ]
  },
  {
   "cell_type": "code",
   "execution_count": 114,
   "metadata": {},
   "outputs": [],
   "source": [
    "class MaxPool2d:\n",
    "    def __init__(self, pool_size):\n",
    "        self.pool_size = pool_size\n",
    "    \n",
    "    def generate_patches(self, A):\n",
    "        A_row, A_col, num_filters = A.shape\n",
    "        for i in range(0, A_row, self.pool_size):\n",
    "            for j in range(0, A_col, self.pool_size):\n",
    "                patch = A[i : i+  self.pool_size, j : j + self.pool_size]\n",
    "                yield patch, i, j\n",
    "    \n",
    "    def forward(self, A):\n",
    "        A_row, A_col, num_filters = A.shape\n",
    "        output = np.zeros((A_row // self.pool_size, A_col // self.pool_size, num_filters))\n",
    "\n",
    "        for patch, i, j in self.generate_patches(A):\n",
    "            output[i//self.pool_size, j//self.pool_size] = np.amax(patch, axis=(0, 1))\n",
    "        \n",
    "        return output"
   ]
  },
  {
   "cell_type": "code",
   "execution_count": 115,
   "metadata": {},
   "outputs": [
    {
     "name": "stdout",
     "output_type": "stream",
     "text": [
      "(3, 3, 2)\n",
      "[[0.64133955 0.51419648 0.17743485]\n",
      " [0.32513899 0.63923121 0.52926566]\n",
      " [0.7298015  0.62027034 0.76226554]]\n"
     ]
    }
   ],
   "source": [
    "max_pool = MaxPool2d(2)\n",
    "output = max_pool.forward(output)\n",
    "print(output.shape)\n",
    "print(output[:, :, 0])"
   ]
  },
  {
   "cell_type": "code",
   "execution_count": 119,
   "metadata": {},
   "outputs": [],
   "source": [
    "class CNN:\n",
    "    def __init__(self, num_filters, kernel_size, pool_size):\n",
    "        self.conv = ConvolutionLayer(kernel_size, num_filters)\n",
    "        self.pool = MaxPool2d(pool_size)\n",
    "    \n",
    "    def forward(self, A):\n",
    "        output = self.conv.forward(A)\n",
    "        output = self.pool.forward(output)\n",
    "        return output"
   ]
  },
  {
   "cell_type": "code",
   "execution_count": 120,
   "metadata": {},
   "outputs": [],
   "source": [
    "mnist = pd.read_csv('mnist_train.csv')\n",
    "mnist.head()"
   ]
  }
 ],
 "metadata": {
  "kernelspec": {
   "display_name": "Python 3",
   "language": "python",
   "name": "python3"
  },
  "language_info": {
   "codemirror_mode": {
    "name": "ipython",
    "version": 3
   },
   "file_extension": ".py",
   "mimetype": "text/x-python",
   "name": "python",
   "nbconvert_exporter": "python",
   "pygments_lexer": "ipython3",
   "version": "3.11.0"
  }
 },
 "nbformat": 4,
 "nbformat_minor": 2
}
